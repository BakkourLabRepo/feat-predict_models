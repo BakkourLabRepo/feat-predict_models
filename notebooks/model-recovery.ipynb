{
 "cells": [
  {
   "cell_type": "code",
   "execution_count": 39,
   "metadata": {},
   "outputs": [],
   "source": [
    "import warnings\n",
    "warnings.simplefilter(action='ignore', category=FutureWarning)\n",
    "\n",
    "import numpy as np\n",
    "import pandas as pd\n",
    "from scipy.stats import pearsonr, spearmanr\n",
    "import matplotlib.pyplot as plt\n",
    "import seaborn as sns\n",
    "from os import listdir"
   ]
  },
  {
   "cell_type": "code",
   "execution_count": 24,
   "metadata": {},
   "outputs": [],
   "source": [
    "DATA_PATH = '/Users/euanprentis/Documents/feat_predict_simulations/data'\n",
    "RESULTS_PATH = '/Users/euanprentis/Documents/feat_predict_simulations/results'\n",
    "MODELS = ['ss', 'ss-sampler', 'ff']\n",
    "COMPARISON_PARAMETERS = [\n",
    "    'alpha',\n",
    "    'beta',\n",
    "    'beta_test',\n",
    "    'segmentation',\n",
    "    'sampler_feature_weight',\n",
    "    'sampler_specificity'\n",
    "]\n",
    "\n",
    "# Model colors\n",
    "MODEL_COLORS = {\n",
    "    'ss': '#9cd8ff',\n",
    "    'ss-sampler': '#3DB2FF',\n",
    "    'ff': '#FF2442'\n",
    "}"
   ]
  },
  {
   "cell_type": "markdown",
   "metadata": {},
   "source": [
    "# Functions"
   ]
  },
  {
   "cell_type": "code",
   "execution_count": 107,
   "metadata": {},
   "outputs": [],
   "source": [
    "def set_axis_ratio(ax, ratio=1):\n",
    "    \"\"\"\n",
    "    Make axis aspect ratio square\n",
    "    \n",
    "    Arguments\n",
    "    ---------\n",
    "    ax : matplotlib.Axes\n",
    "        matplotlib axis to transform\n",
    "    ratio : int or float\n",
    "        ratio of y- to x-axis\n",
    "        \n",
    "    Returns\n",
    "    -------\n",
    "    None\n",
    "    \"\"\"\n",
    "    ax.set_aspect(ratio/ax.get_data_ratio(), adjustable='box')\n",
    "\n",
    "def sigmoid(x):\n",
    "    \"\"\"\n",
    "    Sigmoid function\n",
    "\n",
    "    Arguments\n",
    "    ---------\n",
    "    x : int or float\n",
    "        input value\n",
    "\n",
    "    Returns\n",
    "    -------\n",
    "    float\n",
    "        sigmoid of x\n",
    "    \"\"\"\n",
    "    return 1 / (1 + np.exp(-x))\n",
    "\n",
    "def round_up(x, n):\n",
    "    \"\"\"\n",
    "    Round up to n decimal places\n",
    "\n",
    "    Arguments\n",
    "    ---------\n",
    "    x : int or float\n",
    "        input value\n",
    "    n : int\n",
    "        number of decimal places\n",
    "    \n",
    "    Returns\n",
    "    -------\n",
    "    float\n",
    "        x rounded up to n decimal\n",
    "    \"\"\"\n",
    "    factor = 10**n\n",
    "    return np.ceil(x*factor)/factor\n",
    "\n",
    "\n",
    "def plot_parameter_relationship(\n",
    "    df,\n",
    "    x,\n",
    "    y,\n",
    "    x_label = None,\n",
    "    y_label = None,\n",
    "    color = None\n",
    "):\n",
    "    \"\"\"\n",
    "    Plot relationship between two parameters\n",
    "\n",
    "    Arguments\n",
    "    ---------\n",
    "    df : pandas.DataFrame\n",
    "        data frame containing parameters\n",
    "    x : str\n",
    "        column name for x-axis\n",
    "    y : str\n",
    "        column name for y-axis\n",
    "    x_label : str\n",
    "        label for x-axis\n",
    "    y_label : str\n",
    "        label for y-axis\n",
    "    color : str\n",
    "        color for plot\n",
    "    \n",
    "    Returns\n",
    "    -------\n",
    "    None\n",
    "    \"\"\"\n",
    "\n",
    "    # Init JointGrid\n",
    "    g = sns.JointGrid(data=df, x=x, y=y, height=3)\n",
    "\n",
    "    # Plot Logistic\n",
    "    sns.regplot(\n",
    "        data = df,\n",
    "        x = x,\n",
    "        y = y,\n",
    "        logistic = True,\n",
    "        color = color,\n",
    "        scatter_kws = {'edgecolor': 'white'},\n",
    "        line_kws = {'color': 'black'},\n",
    "        ax = g.ax_joint,\n",
    "    )\n",
    "\n",
    "    # Plot histograms on the marginal axes\n",
    "    g.plot_marginals(\n",
    "        sns.histplot,\n",
    "        color = color\n",
    "    )\n",
    "    g.set_axis_labels(x_label, y_label)\n",
    "\n",
    "    # Print Pearson's and Spearman's correlations\n",
    "    pear_val, pear_p = pearsonr(df[x], df[y])\n",
    "    spear_val, spear_p = spearmanr(df[x], df[y])\n",
    "    print(f\"\"\"\n",
    "    {x} vs {y}\n",
    "    Pearson's correlation: {np.round(pear_val, 2)} (p <= {round_up(pear_p, 4)})\n",
    "    Spearman's correlation: {np.round(spear_val, 2)} (p <= {round_up(spear_p, 4)})\n",
    "    \"\"\")\n"
   ]
  },
  {
   "cell_type": "markdown",
   "metadata": {},
   "source": [
    "# Load Data\n",
    "## Load Simulated Parameters"
   ]
  },
  {
   "cell_type": "code",
   "execution_count": 26,
   "metadata": {},
   "outputs": [
    {
     "data": {
      "text/html": [
       "<div>\n",
       "<style scoped>\n",
       "    .dataframe tbody tr th:only-of-type {\n",
       "        vertical-align: middle;\n",
       "    }\n",
       "\n",
       "    .dataframe tbody tr th {\n",
       "        vertical-align: top;\n",
       "    }\n",
       "\n",
       "    .dataframe thead th {\n",
       "        text-align: right;\n",
       "    }\n",
       "</style>\n",
       "<table border=\"1\" class=\"dataframe\">\n",
       "  <thead>\n",
       "    <tr style=\"text-align: right;\">\n",
       "      <th></th>\n",
       "      <th>id</th>\n",
       "      <th>model_label</th>\n",
       "      <th>alpha</th>\n",
       "      <th>beta</th>\n",
       "      <th>beta_test</th>\n",
       "      <th>segmentation</th>\n",
       "      <th>sampler_feature_weight</th>\n",
       "      <th>sampler_specificity</th>\n",
       "    </tr>\n",
       "  </thead>\n",
       "  <tbody>\n",
       "    <tr>\n",
       "      <th>0</th>\n",
       "      <td>161</td>\n",
       "      <td>ss</td>\n",
       "      <td>0.139830</td>\n",
       "      <td>26.309425</td>\n",
       "      <td>26.309425</td>\n",
       "      <td>1.000000</td>\n",
       "      <td>1.0</td>\n",
       "      <td>1.0</td>\n",
       "    </tr>\n",
       "    <tr>\n",
       "      <th>1</th>\n",
       "      <td>175</td>\n",
       "      <td>ss</td>\n",
       "      <td>0.515469</td>\n",
       "      <td>2.759290</td>\n",
       "      <td>2.759290</td>\n",
       "      <td>1.000000</td>\n",
       "      <td>1.0</td>\n",
       "      <td>1.0</td>\n",
       "    </tr>\n",
       "    <tr>\n",
       "      <th>2</th>\n",
       "      <td>149</td>\n",
       "      <td>ss</td>\n",
       "      <td>0.165642</td>\n",
       "      <td>3.720871</td>\n",
       "      <td>3.720871</td>\n",
       "      <td>1.000000</td>\n",
       "      <td>1.0</td>\n",
       "      <td>1.0</td>\n",
       "    </tr>\n",
       "    <tr>\n",
       "      <th>3</th>\n",
       "      <td>148</td>\n",
       "      <td>ss</td>\n",
       "      <td>0.091054</td>\n",
       "      <td>2.346891</td>\n",
       "      <td>2.346891</td>\n",
       "      <td>1.000000</td>\n",
       "      <td>1.0</td>\n",
       "      <td>1.0</td>\n",
       "    </tr>\n",
       "    <tr>\n",
       "      <th>4</th>\n",
       "      <td>174</td>\n",
       "      <td>ss</td>\n",
       "      <td>0.012506</td>\n",
       "      <td>1.084926</td>\n",
       "      <td>1.084926</td>\n",
       "      <td>1.000000</td>\n",
       "      <td>1.0</td>\n",
       "      <td>1.0</td>\n",
       "    </tr>\n",
       "    <tr>\n",
       "      <th>...</th>\n",
       "      <td>...</td>\n",
       "      <td>...</td>\n",
       "      <td>...</td>\n",
       "      <td>...</td>\n",
       "      <td>...</td>\n",
       "      <td>...</td>\n",
       "      <td>...</td>\n",
       "      <td>...</td>\n",
       "    </tr>\n",
       "    <tr>\n",
       "      <th>295</th>\n",
       "      <td>24</td>\n",
       "      <td>ff</td>\n",
       "      <td>0.109740</td>\n",
       "      <td>39.716787</td>\n",
       "      <td>39.716787</td>\n",
       "      <td>0.610988</td>\n",
       "      <td>1.0</td>\n",
       "      <td>1.0</td>\n",
       "    </tr>\n",
       "    <tr>\n",
       "      <th>296</th>\n",
       "      <td>32</td>\n",
       "      <td>ff</td>\n",
       "      <td>0.016597</td>\n",
       "      <td>1.770766</td>\n",
       "      <td>1.770766</td>\n",
       "      <td>0.195929</td>\n",
       "      <td>1.0</td>\n",
       "      <td>1.0</td>\n",
       "    </tr>\n",
       "    <tr>\n",
       "      <th>297</th>\n",
       "      <td>26</td>\n",
       "      <td>ff</td>\n",
       "      <td>0.456666</td>\n",
       "      <td>7.314857</td>\n",
       "      <td>7.314857</td>\n",
       "      <td>0.871580</td>\n",
       "      <td>1.0</td>\n",
       "      <td>1.0</td>\n",
       "    </tr>\n",
       "    <tr>\n",
       "      <th>298</th>\n",
       "      <td>27</td>\n",
       "      <td>ff</td>\n",
       "      <td>0.223642</td>\n",
       "      <td>1.248781</td>\n",
       "      <td>1.248781</td>\n",
       "      <td>0.144784</td>\n",
       "      <td>1.0</td>\n",
       "      <td>1.0</td>\n",
       "    </tr>\n",
       "    <tr>\n",
       "      <th>299</th>\n",
       "      <td>33</td>\n",
       "      <td>ff</td>\n",
       "      <td>0.068447</td>\n",
       "      <td>1.386010</td>\n",
       "      <td>1.386010</td>\n",
       "      <td>0.433797</td>\n",
       "      <td>1.0</td>\n",
       "      <td>1.0</td>\n",
       "    </tr>\n",
       "  </tbody>\n",
       "</table>\n",
       "<p>300 rows × 8 columns</p>\n",
       "</div>"
      ],
      "text/plain": [
       "      id model_label     alpha       beta  beta_test  segmentation  \\\n",
       "0    161          ss  0.139830  26.309425  26.309425      1.000000   \n",
       "1    175          ss  0.515469   2.759290   2.759290      1.000000   \n",
       "2    149          ss  0.165642   3.720871   3.720871      1.000000   \n",
       "3    148          ss  0.091054   2.346891   2.346891      1.000000   \n",
       "4    174          ss  0.012506   1.084926   1.084926      1.000000   \n",
       "..   ...         ...       ...        ...        ...           ...   \n",
       "295   24          ff  0.109740  39.716787  39.716787      0.610988   \n",
       "296   32          ff  0.016597   1.770766   1.770766      0.195929   \n",
       "297   26          ff  0.456666   7.314857   7.314857      0.871580   \n",
       "298   27          ff  0.223642   1.248781   1.248781      0.144784   \n",
       "299   33          ff  0.068447   1.386010   1.386010      0.433797   \n",
       "\n",
       "     sampler_feature_weight  sampler_specificity  \n",
       "0                       1.0                  1.0  \n",
       "1                       1.0                  1.0  \n",
       "2                       1.0                  1.0  \n",
       "3                       1.0                  1.0  \n",
       "4                       1.0                  1.0  \n",
       "..                      ...                  ...  \n",
       "295                     1.0                  1.0  \n",
       "296                     1.0                  1.0  \n",
       "297                     1.0                  1.0  \n",
       "298                     1.0                  1.0  \n",
       "299                     1.0                  1.0  \n",
       "\n",
       "[300 rows x 8 columns]"
      ]
     },
     "execution_count": 26,
     "metadata": {},
     "output_type": "execute_result"
    }
   ],
   "source": [
    "# Load simulated agent parameters\n",
    "sim_params = []\n",
    "for model in MODELS:\n",
    "    for f in listdir(f'{DATA_PATH}/{model}/training'):\n",
    "        agent_data = pd.read_csv(f'{DATA_PATH}/{model}/training/{f}')\n",
    "        sim_params.append(agent_data[[\n",
    "            'id',\n",
    "            'model_label',\n",
    "            *COMPARISON_PARAMETERS\n",
    "        ]].values[0])\n",
    "\n",
    "# Combine into one data frame\n",
    "sim_params = pd.DataFrame(\n",
    "    sim_params,\n",
    "    columns = ['id', 'model_label', *COMPARISON_PARAMETERS]\n",
    ")\n",
    "sim_params"
   ]
  },
  {
   "cell_type": "markdown",
   "metadata": {},
   "source": [
    "## Load Fitting Results"
   ]
  },
  {
   "cell_type": "code",
   "execution_count": 27,
   "metadata": {},
   "outputs": [
    {
     "data": {
      "text/html": [
       "<div>\n",
       "<style scoped>\n",
       "    .dataframe tbody tr th:only-of-type {\n",
       "        vertical-align: middle;\n",
       "    }\n",
       "\n",
       "    .dataframe tbody tr th {\n",
       "        vertical-align: top;\n",
       "    }\n",
       "\n",
       "    .dataframe thead th {\n",
       "        text-align: right;\n",
       "    }\n",
       "</style>\n",
       "<table border=\"1\" class=\"dataframe\">\n",
       "  <thead>\n",
       "    <tr style=\"text-align: right;\">\n",
       "      <th></th>\n",
       "      <th>id</th>\n",
       "      <th>model_label</th>\n",
       "      <th>success</th>\n",
       "      <th>nll</th>\n",
       "      <th>aic</th>\n",
       "      <th>null_nll</th>\n",
       "      <th>alpha</th>\n",
       "      <th>beta</th>\n",
       "      <th>beta_test</th>\n",
       "      <th>segmentation</th>\n",
       "      <th>sampler_feature_weight</th>\n",
       "      <th>sampler_specificity</th>\n",
       "    </tr>\n",
       "  </thead>\n",
       "  <tbody>\n",
       "    <tr>\n",
       "      <th>0</th>\n",
       "      <td>101</td>\n",
       "      <td>ff</td>\n",
       "      <td>True</td>\n",
       "      <td>288.201666</td>\n",
       "      <td>582.403332</td>\n",
       "      <td>299.439582</td>\n",
       "      <td>1.000000</td>\n",
       "      <td>0.048246</td>\n",
       "      <td>0.048246</td>\n",
       "      <td>0.897464</td>\n",
       "      <td>1.000000</td>\n",
       "      <td>1.000000</td>\n",
       "    </tr>\n",
       "    <tr>\n",
       "      <th>1</th>\n",
       "      <td>101</td>\n",
       "      <td>ss</td>\n",
       "      <td>True</td>\n",
       "      <td>182.924368</td>\n",
       "      <td>369.848735</td>\n",
       "      <td>299.439582</td>\n",
       "      <td>0.214567</td>\n",
       "      <td>28.013147</td>\n",
       "      <td>28.013147</td>\n",
       "      <td>1.000000</td>\n",
       "      <td>1.000000</td>\n",
       "      <td>1.000000</td>\n",
       "    </tr>\n",
       "    <tr>\n",
       "      <th>2</th>\n",
       "      <td>101</td>\n",
       "      <td>ss-sampler</td>\n",
       "      <td>True</td>\n",
       "      <td>289.080492</td>\n",
       "      <td>586.160984</td>\n",
       "      <td>299.439582</td>\n",
       "      <td>1.000000</td>\n",
       "      <td>0.123301</td>\n",
       "      <td>0.123301</td>\n",
       "      <td>1.000000</td>\n",
       "      <td>0.985940</td>\n",
       "      <td>131.409297</td>\n",
       "    </tr>\n",
       "    <tr>\n",
       "      <th>3</th>\n",
       "      <td>102</td>\n",
       "      <td>ff</td>\n",
       "      <td>True</td>\n",
       "      <td>299.068771</td>\n",
       "      <td>604.137542</td>\n",
       "      <td>299.439582</td>\n",
       "      <td>0.000209</td>\n",
       "      <td>8266.647102</td>\n",
       "      <td>8266.647102</td>\n",
       "      <td>0.995609</td>\n",
       "      <td>1.000000</td>\n",
       "      <td>1.000000</td>\n",
       "    </tr>\n",
       "    <tr>\n",
       "      <th>4</th>\n",
       "      <td>102</td>\n",
       "      <td>ss</td>\n",
       "      <td>True</td>\n",
       "      <td>296.939839</td>\n",
       "      <td>597.879679</td>\n",
       "      <td>299.439582</td>\n",
       "      <td>0.000284</td>\n",
       "      <td>711.942036</td>\n",
       "      <td>711.942036</td>\n",
       "      <td>1.000000</td>\n",
       "      <td>1.000000</td>\n",
       "      <td>1.000000</td>\n",
       "    </tr>\n",
       "    <tr>\n",
       "      <th>...</th>\n",
       "      <td>...</td>\n",
       "      <td>...</td>\n",
       "      <td>...</td>\n",
       "      <td>...</td>\n",
       "      <td>...</td>\n",
       "      <td>...</td>\n",
       "      <td>...</td>\n",
       "      <td>...</td>\n",
       "      <td>...</td>\n",
       "      <td>...</td>\n",
       "      <td>...</td>\n",
       "      <td>...</td>\n",
       "    </tr>\n",
       "    <tr>\n",
       "      <th>895</th>\n",
       "      <td>99</td>\n",
       "      <td>ss</td>\n",
       "      <td>True</td>\n",
       "      <td>293.597590</td>\n",
       "      <td>591.195180</td>\n",
       "      <td>299.439582</td>\n",
       "      <td>0.990555</td>\n",
       "      <td>0.137056</td>\n",
       "      <td>0.137056</td>\n",
       "      <td>1.000000</td>\n",
       "      <td>1.000000</td>\n",
       "      <td>1.000000</td>\n",
       "    </tr>\n",
       "    <tr>\n",
       "      <th>896</th>\n",
       "      <td>99</td>\n",
       "      <td>ss-sampler</td>\n",
       "      <td>True</td>\n",
       "      <td>285.566450</td>\n",
       "      <td>579.132901</td>\n",
       "      <td>299.439582</td>\n",
       "      <td>1.000000</td>\n",
       "      <td>0.152127</td>\n",
       "      <td>0.152127</td>\n",
       "      <td>1.000000</td>\n",
       "      <td>0.670373</td>\n",
       "      <td>4.371384</td>\n",
       "    </tr>\n",
       "    <tr>\n",
       "      <th>897</th>\n",
       "      <td>100</td>\n",
       "      <td>ff</td>\n",
       "      <td>True</td>\n",
       "      <td>127.852941</td>\n",
       "      <td>261.705882</td>\n",
       "      <td>299.439582</td>\n",
       "      <td>1.000000</td>\n",
       "      <td>0.558205</td>\n",
       "      <td>0.558205</td>\n",
       "      <td>0.887551</td>\n",
       "      <td>1.000000</td>\n",
       "      <td>1.000000</td>\n",
       "    </tr>\n",
       "    <tr>\n",
       "      <th>898</th>\n",
       "      <td>100</td>\n",
       "      <td>ss</td>\n",
       "      <td>True</td>\n",
       "      <td>276.472759</td>\n",
       "      <td>556.945519</td>\n",
       "      <td>299.439582</td>\n",
       "      <td>1.000000</td>\n",
       "      <td>0.194053</td>\n",
       "      <td>0.194053</td>\n",
       "      <td>1.000000</td>\n",
       "      <td>1.000000</td>\n",
       "      <td>1.000000</td>\n",
       "    </tr>\n",
       "    <tr>\n",
       "      <th>899</th>\n",
       "      <td>100</td>\n",
       "      <td>ss-sampler</td>\n",
       "      <td>True</td>\n",
       "      <td>154.960987</td>\n",
       "      <td>317.921974</td>\n",
       "      <td>299.439582</td>\n",
       "      <td>1.000000</td>\n",
       "      <td>0.878763</td>\n",
       "      <td>0.878763</td>\n",
       "      <td>1.000000</td>\n",
       "      <td>0.770760</td>\n",
       "      <td>2.908425</td>\n",
       "    </tr>\n",
       "  </tbody>\n",
       "</table>\n",
       "<p>900 rows × 12 columns</p>\n",
       "</div>"
      ],
      "text/plain": [
       "      id model_label  success         nll         aic    null_nll     alpha  \\\n",
       "0    101          ff     True  288.201666  582.403332  299.439582  1.000000   \n",
       "1    101          ss     True  182.924368  369.848735  299.439582  0.214567   \n",
       "2    101  ss-sampler     True  289.080492  586.160984  299.439582  1.000000   \n",
       "3    102          ff     True  299.068771  604.137542  299.439582  0.000209   \n",
       "4    102          ss     True  296.939839  597.879679  299.439582  0.000284   \n",
       "..   ...         ...      ...         ...         ...         ...       ...   \n",
       "895   99          ss     True  293.597590  591.195180  299.439582  0.990555   \n",
       "896   99  ss-sampler     True  285.566450  579.132901  299.439582  1.000000   \n",
       "897  100          ff     True  127.852941  261.705882  299.439582  1.000000   \n",
       "898  100          ss     True  276.472759  556.945519  299.439582  1.000000   \n",
       "899  100  ss-sampler     True  154.960987  317.921974  299.439582  1.000000   \n",
       "\n",
       "            beta    beta_test  segmentation  sampler_feature_weight  \\\n",
       "0       0.048246     0.048246      0.897464                1.000000   \n",
       "1      28.013147    28.013147      1.000000                1.000000   \n",
       "2       0.123301     0.123301      1.000000                0.985940   \n",
       "3    8266.647102  8266.647102      0.995609                1.000000   \n",
       "4     711.942036   711.942036      1.000000                1.000000   \n",
       "..           ...          ...           ...                     ...   \n",
       "895     0.137056     0.137056      1.000000                1.000000   \n",
       "896     0.152127     0.152127      1.000000                0.670373   \n",
       "897     0.558205     0.558205      0.887551                1.000000   \n",
       "898     0.194053     0.194053      1.000000                1.000000   \n",
       "899     0.878763     0.878763      1.000000                0.770760   \n",
       "\n",
       "     sampler_specificity  \n",
       "0               1.000000  \n",
       "1               1.000000  \n",
       "2             131.409297  \n",
       "3               1.000000  \n",
       "4               1.000000  \n",
       "..                   ...  \n",
       "895             1.000000  \n",
       "896             4.371384  \n",
       "897             1.000000  \n",
       "898             1.000000  \n",
       "899             2.908425  \n",
       "\n",
       "[900 rows x 12 columns]"
      ]
     },
     "execution_count": 27,
     "metadata": {},
     "output_type": "execute_result"
    }
   ],
   "source": [
    "model_fits = []\n",
    "for model in MODELS:\n",
    "    this_model_fits = pd.read_csv(f'{RESULTS_PATH}/model_fits_{model}.csv')\n",
    "    this_model_fits = this_model_fits[[\n",
    "        'id',\n",
    "        'model_label',\n",
    "        'success',\n",
    "        'nll', \n",
    "        'aic',\n",
    "        'null_nll',\n",
    "        *COMPARISON_PARAMETERS\n",
    "    ]]\n",
    "    model_fits.append(this_model_fits)\n",
    "model_fits = pd.concat(model_fits)\n",
    "model_fits = model_fits.reset_index(drop=True)\n",
    "model_fits"
   ]
  },
  {
   "cell_type": "markdown",
   "metadata": {},
   "source": [
    "## Combine into one data frame"
   ]
  },
  {
   "cell_type": "code",
   "execution_count": 28,
   "metadata": {},
   "outputs": [
    {
     "data": {
      "text/html": [
       "<div>\n",
       "<style scoped>\n",
       "    .dataframe tbody tr th:only-of-type {\n",
       "        vertical-align: middle;\n",
       "    }\n",
       "\n",
       "    .dataframe tbody tr th {\n",
       "        vertical-align: top;\n",
       "    }\n",
       "\n",
       "    .dataframe thead th {\n",
       "        text-align: right;\n",
       "    }\n",
       "</style>\n",
       "<table border=\"1\" class=\"dataframe\">\n",
       "  <thead>\n",
       "    <tr style=\"text-align: right;\">\n",
       "      <th></th>\n",
       "      <th>id</th>\n",
       "      <th>model_label_sim</th>\n",
       "      <th>alpha_sim</th>\n",
       "      <th>beta_sim</th>\n",
       "      <th>beta_test_sim</th>\n",
       "      <th>segmentation_sim</th>\n",
       "      <th>sampler_feature_weight_sim</th>\n",
       "      <th>sampler_specificity_sim</th>\n",
       "      <th>model_label_fit</th>\n",
       "      <th>success</th>\n",
       "      <th>...</th>\n",
       "      <th>beta_test_fit</th>\n",
       "      <th>segmentation_fit</th>\n",
       "      <th>sampler_feature_weight_fit</th>\n",
       "      <th>sampler_specificity_fit</th>\n",
       "      <th>beta_trans_sim</th>\n",
       "      <th>beta_trans_fit</th>\n",
       "      <th>beta_test_trans_sim</th>\n",
       "      <th>beta_test_trans_fit</th>\n",
       "      <th>sampler_specificity_trans_sim</th>\n",
       "      <th>sampler_specificity_trans_fit</th>\n",
       "    </tr>\n",
       "  </thead>\n",
       "  <tbody>\n",
       "    <tr>\n",
       "      <th>0</th>\n",
       "      <td>161</td>\n",
       "      <td>ss</td>\n",
       "      <td>0.139830</td>\n",
       "      <td>26.309425</td>\n",
       "      <td>26.309425</td>\n",
       "      <td>1.000000</td>\n",
       "      <td>1.0</td>\n",
       "      <td>1.0</td>\n",
       "      <td>ff</td>\n",
       "      <td>True</td>\n",
       "      <td>...</td>\n",
       "      <td>0.113251</td>\n",
       "      <td>0.000000</td>\n",
       "      <td>1.000000</td>\n",
       "      <td>1.000000</td>\n",
       "      <td>1.000000</td>\n",
       "      <td>0.528282</td>\n",
       "      <td>1.000000</td>\n",
       "      <td>0.528282</td>\n",
       "      <td>0.731059</td>\n",
       "      <td>0.731059</td>\n",
       "    </tr>\n",
       "    <tr>\n",
       "      <th>1</th>\n",
       "      <td>161</td>\n",
       "      <td>ss</td>\n",
       "      <td>0.139830</td>\n",
       "      <td>26.309425</td>\n",
       "      <td>26.309425</td>\n",
       "      <td>1.000000</td>\n",
       "      <td>1.0</td>\n",
       "      <td>1.0</td>\n",
       "      <td>ss</td>\n",
       "      <td>True</td>\n",
       "      <td>...</td>\n",
       "      <td>11.010579</td>\n",
       "      <td>1.000000</td>\n",
       "      <td>1.000000</td>\n",
       "      <td>1.000000</td>\n",
       "      <td>1.000000</td>\n",
       "      <td>0.999983</td>\n",
       "      <td>1.000000</td>\n",
       "      <td>0.999983</td>\n",
       "      <td>0.731059</td>\n",
       "      <td>0.731059</td>\n",
       "    </tr>\n",
       "    <tr>\n",
       "      <th>2</th>\n",
       "      <td>161</td>\n",
       "      <td>ss</td>\n",
       "      <td>0.139830</td>\n",
       "      <td>26.309425</td>\n",
       "      <td>26.309425</td>\n",
       "      <td>1.000000</td>\n",
       "      <td>1.0</td>\n",
       "      <td>1.0</td>\n",
       "      <td>ss-sampler</td>\n",
       "      <td>True</td>\n",
       "      <td>...</td>\n",
       "      <td>0.173360</td>\n",
       "      <td>1.000000</td>\n",
       "      <td>0.653312</td>\n",
       "      <td>6.858853</td>\n",
       "      <td>1.000000</td>\n",
       "      <td>0.543232</td>\n",
       "      <td>1.000000</td>\n",
       "      <td>0.543232</td>\n",
       "      <td>0.731059</td>\n",
       "      <td>0.998951</td>\n",
       "    </tr>\n",
       "    <tr>\n",
       "      <th>3</th>\n",
       "      <td>175</td>\n",
       "      <td>ss</td>\n",
       "      <td>0.515469</td>\n",
       "      <td>2.759290</td>\n",
       "      <td>2.759290</td>\n",
       "      <td>1.000000</td>\n",
       "      <td>1.0</td>\n",
       "      <td>1.0</td>\n",
       "      <td>ff</td>\n",
       "      <td>True</td>\n",
       "      <td>...</td>\n",
       "      <td>0.049200</td>\n",
       "      <td>0.886391</td>\n",
       "      <td>1.000000</td>\n",
       "      <td>1.000000</td>\n",
       "      <td>0.940436</td>\n",
       "      <td>0.512298</td>\n",
       "      <td>0.940436</td>\n",
       "      <td>0.512298</td>\n",
       "      <td>0.731059</td>\n",
       "      <td>0.731059</td>\n",
       "    </tr>\n",
       "    <tr>\n",
       "      <th>4</th>\n",
       "      <td>175</td>\n",
       "      <td>ss</td>\n",
       "      <td>0.515469</td>\n",
       "      <td>2.759290</td>\n",
       "      <td>2.759290</td>\n",
       "      <td>1.000000</td>\n",
       "      <td>1.0</td>\n",
       "      <td>1.0</td>\n",
       "      <td>ss</td>\n",
       "      <td>True</td>\n",
       "      <td>...</td>\n",
       "      <td>1.960507</td>\n",
       "      <td>1.000000</td>\n",
       "      <td>1.000000</td>\n",
       "      <td>1.000000</td>\n",
       "      <td>0.940436</td>\n",
       "      <td>0.876588</td>\n",
       "      <td>0.940436</td>\n",
       "      <td>0.876588</td>\n",
       "      <td>0.731059</td>\n",
       "      <td>0.731059</td>\n",
       "    </tr>\n",
       "    <tr>\n",
       "      <th>...</th>\n",
       "      <td>...</td>\n",
       "      <td>...</td>\n",
       "      <td>...</td>\n",
       "      <td>...</td>\n",
       "      <td>...</td>\n",
       "      <td>...</td>\n",
       "      <td>...</td>\n",
       "      <td>...</td>\n",
       "      <td>...</td>\n",
       "      <td>...</td>\n",
       "      <td>...</td>\n",
       "      <td>...</td>\n",
       "      <td>...</td>\n",
       "      <td>...</td>\n",
       "      <td>...</td>\n",
       "      <td>...</td>\n",
       "      <td>...</td>\n",
       "      <td>...</td>\n",
       "      <td>...</td>\n",
       "      <td>...</td>\n",
       "      <td>...</td>\n",
       "    </tr>\n",
       "    <tr>\n",
       "      <th>895</th>\n",
       "      <td>27</td>\n",
       "      <td>ff</td>\n",
       "      <td>0.223642</td>\n",
       "      <td>1.248781</td>\n",
       "      <td>1.248781</td>\n",
       "      <td>0.144784</td>\n",
       "      <td>1.0</td>\n",
       "      <td>1.0</td>\n",
       "      <td>ss</td>\n",
       "      <td>True</td>\n",
       "      <td>...</td>\n",
       "      <td>0.139338</td>\n",
       "      <td>1.000000</td>\n",
       "      <td>1.000000</td>\n",
       "      <td>1.000000</td>\n",
       "      <td>0.777089</td>\n",
       "      <td>0.534778</td>\n",
       "      <td>0.777089</td>\n",
       "      <td>0.534778</td>\n",
       "      <td>0.731059</td>\n",
       "      <td>0.731059</td>\n",
       "    </tr>\n",
       "    <tr>\n",
       "      <th>896</th>\n",
       "      <td>27</td>\n",
       "      <td>ff</td>\n",
       "      <td>0.223642</td>\n",
       "      <td>1.248781</td>\n",
       "      <td>1.248781</td>\n",
       "      <td>0.144784</td>\n",
       "      <td>1.0</td>\n",
       "      <td>1.0</td>\n",
       "      <td>ss-sampler</td>\n",
       "      <td>True</td>\n",
       "      <td>...</td>\n",
       "      <td>0.296102</td>\n",
       "      <td>1.000000</td>\n",
       "      <td>1.000000</td>\n",
       "      <td>1.000000</td>\n",
       "      <td>0.777089</td>\n",
       "      <td>0.573489</td>\n",
       "      <td>0.777089</td>\n",
       "      <td>0.573489</td>\n",
       "      <td>0.731059</td>\n",
       "      <td>0.731059</td>\n",
       "    </tr>\n",
       "    <tr>\n",
       "      <th>897</th>\n",
       "      <td>33</td>\n",
       "      <td>ff</td>\n",
       "      <td>0.068447</td>\n",
       "      <td>1.386010</td>\n",
       "      <td>1.386010</td>\n",
       "      <td>0.433797</td>\n",
       "      <td>1.0</td>\n",
       "      <td>1.0</td>\n",
       "      <td>ff</td>\n",
       "      <td>True</td>\n",
       "      <td>...</td>\n",
       "      <td>20.830574</td>\n",
       "      <td>0.094086</td>\n",
       "      <td>1.000000</td>\n",
       "      <td>1.000000</td>\n",
       "      <td>0.799955</td>\n",
       "      <td>1.000000</td>\n",
       "      <td>0.799955</td>\n",
       "      <td>1.000000</td>\n",
       "      <td>0.731059</td>\n",
       "      <td>0.731059</td>\n",
       "    </tr>\n",
       "    <tr>\n",
       "      <th>898</th>\n",
       "      <td>33</td>\n",
       "      <td>ff</td>\n",
       "      <td>0.068447</td>\n",
       "      <td>1.386010</td>\n",
       "      <td>1.386010</td>\n",
       "      <td>0.433797</td>\n",
       "      <td>1.0</td>\n",
       "      <td>1.0</td>\n",
       "      <td>ss</td>\n",
       "      <td>True</td>\n",
       "      <td>...</td>\n",
       "      <td>0.031140</td>\n",
       "      <td>1.000000</td>\n",
       "      <td>1.000000</td>\n",
       "      <td>1.000000</td>\n",
       "      <td>0.799955</td>\n",
       "      <td>0.507784</td>\n",
       "      <td>0.799955</td>\n",
       "      <td>0.507784</td>\n",
       "      <td>0.731059</td>\n",
       "      <td>0.731059</td>\n",
       "    </tr>\n",
       "    <tr>\n",
       "      <th>899</th>\n",
       "      <td>33</td>\n",
       "      <td>ff</td>\n",
       "      <td>0.068447</td>\n",
       "      <td>1.386010</td>\n",
       "      <td>1.386010</td>\n",
       "      <td>0.433797</td>\n",
       "      <td>1.0</td>\n",
       "      <td>1.0</td>\n",
       "      <td>ss-sampler</td>\n",
       "      <td>True</td>\n",
       "      <td>...</td>\n",
       "      <td>0.424498</td>\n",
       "      <td>1.000000</td>\n",
       "      <td>1.000000</td>\n",
       "      <td>1.000000</td>\n",
       "      <td>0.799955</td>\n",
       "      <td>0.604559</td>\n",
       "      <td>0.799955</td>\n",
       "      <td>0.604559</td>\n",
       "      <td>0.731059</td>\n",
       "      <td>0.731059</td>\n",
       "    </tr>\n",
       "  </tbody>\n",
       "</table>\n",
       "<p>900 rows × 25 columns</p>\n",
       "</div>"
      ],
      "text/plain": [
       "      id model_label_sim  alpha_sim   beta_sim  beta_test_sim  \\\n",
       "0    161              ss   0.139830  26.309425      26.309425   \n",
       "1    161              ss   0.139830  26.309425      26.309425   \n",
       "2    161              ss   0.139830  26.309425      26.309425   \n",
       "3    175              ss   0.515469   2.759290       2.759290   \n",
       "4    175              ss   0.515469   2.759290       2.759290   \n",
       "..   ...             ...        ...        ...            ...   \n",
       "895   27              ff   0.223642   1.248781       1.248781   \n",
       "896   27              ff   0.223642   1.248781       1.248781   \n",
       "897   33              ff   0.068447   1.386010       1.386010   \n",
       "898   33              ff   0.068447   1.386010       1.386010   \n",
       "899   33              ff   0.068447   1.386010       1.386010   \n",
       "\n",
       "     segmentation_sim  sampler_feature_weight_sim  sampler_specificity_sim  \\\n",
       "0            1.000000                         1.0                      1.0   \n",
       "1            1.000000                         1.0                      1.0   \n",
       "2            1.000000                         1.0                      1.0   \n",
       "3            1.000000                         1.0                      1.0   \n",
       "4            1.000000                         1.0                      1.0   \n",
       "..                ...                         ...                      ...   \n",
       "895          0.144784                         1.0                      1.0   \n",
       "896          0.144784                         1.0                      1.0   \n",
       "897          0.433797                         1.0                      1.0   \n",
       "898          0.433797                         1.0                      1.0   \n",
       "899          0.433797                         1.0                      1.0   \n",
       "\n",
       "    model_label_fit  success  ...  beta_test_fit  segmentation_fit  \\\n",
       "0                ff     True  ...       0.113251          0.000000   \n",
       "1                ss     True  ...      11.010579          1.000000   \n",
       "2        ss-sampler     True  ...       0.173360          1.000000   \n",
       "3                ff     True  ...       0.049200          0.886391   \n",
       "4                ss     True  ...       1.960507          1.000000   \n",
       "..              ...      ...  ...            ...               ...   \n",
       "895              ss     True  ...       0.139338          1.000000   \n",
       "896      ss-sampler     True  ...       0.296102          1.000000   \n",
       "897              ff     True  ...      20.830574          0.094086   \n",
       "898              ss     True  ...       0.031140          1.000000   \n",
       "899      ss-sampler     True  ...       0.424498          1.000000   \n",
       "\n",
       "     sampler_feature_weight_fit  sampler_specificity_fit  beta_trans_sim  \\\n",
       "0                      1.000000                 1.000000        1.000000   \n",
       "1                      1.000000                 1.000000        1.000000   \n",
       "2                      0.653312                 6.858853        1.000000   \n",
       "3                      1.000000                 1.000000        0.940436   \n",
       "4                      1.000000                 1.000000        0.940436   \n",
       "..                          ...                      ...             ...   \n",
       "895                    1.000000                 1.000000        0.777089   \n",
       "896                    1.000000                 1.000000        0.777089   \n",
       "897                    1.000000                 1.000000        0.799955   \n",
       "898                    1.000000                 1.000000        0.799955   \n",
       "899                    1.000000                 1.000000        0.799955   \n",
       "\n",
       "     beta_trans_fit  beta_test_trans_sim  beta_test_trans_fit  \\\n",
       "0          0.528282             1.000000             0.528282   \n",
       "1          0.999983             1.000000             0.999983   \n",
       "2          0.543232             1.000000             0.543232   \n",
       "3          0.512298             0.940436             0.512298   \n",
       "4          0.876588             0.940436             0.876588   \n",
       "..              ...                  ...                  ...   \n",
       "895        0.534778             0.777089             0.534778   \n",
       "896        0.573489             0.777089             0.573489   \n",
       "897        1.000000             0.799955             1.000000   \n",
       "898        0.507784             0.799955             0.507784   \n",
       "899        0.604559             0.799955             0.604559   \n",
       "\n",
       "     sampler_specificity_trans_sim  sampler_specificity_trans_fit  \n",
       "0                         0.731059                       0.731059  \n",
       "1                         0.731059                       0.731059  \n",
       "2                         0.731059                       0.998951  \n",
       "3                         0.731059                       0.731059  \n",
       "4                         0.731059                       0.731059  \n",
       "..                             ...                            ...  \n",
       "895                       0.731059                       0.731059  \n",
       "896                       0.731059                       0.731059  \n",
       "897                       0.731059                       0.731059  \n",
       "898                       0.731059                       0.731059  \n",
       "899                       0.731059                       0.731059  \n",
       "\n",
       "[900 rows x 25 columns]"
      ]
     },
     "execution_count": 28,
     "metadata": {},
     "output_type": "execute_result"
    }
   ],
   "source": [
    "# Marge simulated and fit parameters\n",
    "model_fits = pd.merge(\n",
    "    sim_params,\n",
    "    model_fits,\n",
    "    on = 'id',\n",
    "    suffixes = ('_sim', '_fit')\n",
    ")\n",
    "\n",
    "# Transform betas to be bounded [0, 1]\n",
    "for param in COMPARISON_PARAMETERS:\n",
    "    if ('beta' in param) or (param == 'sampler_specificity'):\n",
    "        model_fits[f'{param}_trans_sim'] = sigmoid(model_fits[f'{param}_sim'])\n",
    "        model_fits[f'{param}_trans_fit'] = sigmoid(model_fits[f'{param}_fit'])\n",
    "\n",
    "model_fits"
   ]
  },
  {
   "cell_type": "markdown",
   "metadata": {},
   "source": [
    "# Model Recovery"
   ]
  },
  {
   "cell_type": "markdown",
   "metadata": {},
   "source": [
    "## Compute if the best fitting model matches the simulated model"
   ]
  },
  {
   "cell_type": "code",
   "execution_count": 7,
   "metadata": {},
   "outputs": [
    {
     "data": {
      "text/html": [
       "<div>\n",
       "<style scoped>\n",
       "    .dataframe tbody tr th:only-of-type {\n",
       "        vertical-align: middle;\n",
       "    }\n",
       "\n",
       "    .dataframe tbody tr th {\n",
       "        vertical-align: top;\n",
       "    }\n",
       "\n",
       "    .dataframe thead th {\n",
       "        text-align: right;\n",
       "    }\n",
       "</style>\n",
       "<table border=\"1\" class=\"dataframe\">\n",
       "  <thead>\n",
       "    <tr style=\"text-align: right;\">\n",
       "      <th></th>\n",
       "      <th>id</th>\n",
       "      <th>model_label_sim</th>\n",
       "      <th>model_label_fit</th>\n",
       "      <th>aic</th>\n",
       "      <th>aic_min</th>\n",
       "      <th>best_fit</th>\n",
       "      <th>recovered</th>\n",
       "    </tr>\n",
       "  </thead>\n",
       "  <tbody>\n",
       "    <tr>\n",
       "      <th>0</th>\n",
       "      <td>161</td>\n",
       "      <td>ss</td>\n",
       "      <td>ss</td>\n",
       "      <td>416.078720</td>\n",
       "      <td>416.078720</td>\n",
       "      <td>1</td>\n",
       "      <td>1</td>\n",
       "    </tr>\n",
       "    <tr>\n",
       "      <th>1</th>\n",
       "      <td>175</td>\n",
       "      <td>ss</td>\n",
       "      <td>ss</td>\n",
       "      <td>431.849570</td>\n",
       "      <td>431.849570</td>\n",
       "      <td>1</td>\n",
       "      <td>1</td>\n",
       "    </tr>\n",
       "    <tr>\n",
       "      <th>2</th>\n",
       "      <td>149</td>\n",
       "      <td>ss</td>\n",
       "      <td>ss</td>\n",
       "      <td>509.448028</td>\n",
       "      <td>509.448028</td>\n",
       "      <td>1</td>\n",
       "      <td>1</td>\n",
       "    </tr>\n",
       "    <tr>\n",
       "      <th>3</th>\n",
       "      <td>148</td>\n",
       "      <td>ss</td>\n",
       "      <td>ss</td>\n",
       "      <td>579.597039</td>\n",
       "      <td>579.597039</td>\n",
       "      <td>1</td>\n",
       "      <td>1</td>\n",
       "    </tr>\n",
       "    <tr>\n",
       "      <th>4</th>\n",
       "      <td>174</td>\n",
       "      <td>ss</td>\n",
       "      <td>ss</td>\n",
       "      <td>601.370620</td>\n",
       "      <td>601.370620</td>\n",
       "      <td>1</td>\n",
       "      <td>1</td>\n",
       "    </tr>\n",
       "    <tr>\n",
       "      <th>...</th>\n",
       "      <td>...</td>\n",
       "      <td>...</td>\n",
       "      <td>...</td>\n",
       "      <td>...</td>\n",
       "      <td>...</td>\n",
       "      <td>...</td>\n",
       "      <td>...</td>\n",
       "    </tr>\n",
       "    <tr>\n",
       "      <th>295</th>\n",
       "      <td>24</td>\n",
       "      <td>ff</td>\n",
       "      <td>ff</td>\n",
       "      <td>135.180168</td>\n",
       "      <td>135.180168</td>\n",
       "      <td>1</td>\n",
       "      <td>1</td>\n",
       "    </tr>\n",
       "    <tr>\n",
       "      <th>296</th>\n",
       "      <td>32</td>\n",
       "      <td>ff</td>\n",
       "      <td>ss</td>\n",
       "      <td>601.770486</td>\n",
       "      <td>601.770486</td>\n",
       "      <td>1</td>\n",
       "      <td>0</td>\n",
       "    </tr>\n",
       "    <tr>\n",
       "      <th>297</th>\n",
       "      <td>26</td>\n",
       "      <td>ff</td>\n",
       "      <td>ff</td>\n",
       "      <td>131.170351</td>\n",
       "      <td>131.170351</td>\n",
       "      <td>1</td>\n",
       "      <td>1</td>\n",
       "    </tr>\n",
       "    <tr>\n",
       "      <th>298</th>\n",
       "      <td>27</td>\n",
       "      <td>ff</td>\n",
       "      <td>ff</td>\n",
       "      <td>453.547625</td>\n",
       "      <td>453.547625</td>\n",
       "      <td>1</td>\n",
       "      <td>1</td>\n",
       "    </tr>\n",
       "    <tr>\n",
       "      <th>299</th>\n",
       "      <td>33</td>\n",
       "      <td>ff</td>\n",
       "      <td>ff</td>\n",
       "      <td>593.052424</td>\n",
       "      <td>593.052424</td>\n",
       "      <td>1</td>\n",
       "      <td>1</td>\n",
       "    </tr>\n",
       "  </tbody>\n",
       "</table>\n",
       "<p>300 rows × 7 columns</p>\n",
       "</div>"
      ],
      "text/plain": [
       "      id model_label_sim model_label_fit         aic     aic_min  best_fit  \\\n",
       "0    161              ss              ss  416.078720  416.078720         1   \n",
       "1    175              ss              ss  431.849570  431.849570         1   \n",
       "2    149              ss              ss  509.448028  509.448028         1   \n",
       "3    148              ss              ss  579.597039  579.597039         1   \n",
       "4    174              ss              ss  601.370620  601.370620         1   \n",
       "..   ...             ...             ...         ...         ...       ...   \n",
       "295   24              ff              ff  135.180168  135.180168         1   \n",
       "296   32              ff              ss  601.770486  601.770486         1   \n",
       "297   26              ff              ff  131.170351  131.170351         1   \n",
       "298   27              ff              ff  453.547625  453.547625         1   \n",
       "299   33              ff              ff  593.052424  593.052424         1   \n",
       "\n",
       "     recovered  \n",
       "0            1  \n",
       "1            1  \n",
       "2            1  \n",
       "3            1  \n",
       "4            1  \n",
       "..         ...  \n",
       "295          1  \n",
       "296          0  \n",
       "297          1  \n",
       "298          1  \n",
       "299          1  \n",
       "\n",
       "[300 rows x 7 columns]"
      ]
     },
     "execution_count": 7,
     "metadata": {},
     "output_type": "execute_result"
    }
   ],
   "source": [
    "model_comparison = model_fits[[\n",
    "    'id',\n",
    "    'model_label_sim',\n",
    "    'model_label_fit',\n",
    "    'aic'\n",
    "]]\n",
    "\n",
    "# Compute the minimum AIC for each agent\n",
    "min_aic = model_comparison[['id', 'aic']].groupby('id').min()\n",
    "min_aic = min_aic.reset_index()\n",
    "model_comparison = pd.merge(\n",
    "    model_comparison,\n",
    "    min_aic,\n",
    "    on = 'id',\n",
    "    suffixes = ('', '_min')\n",
    ")\n",
    "\n",
    "# Identify the model with the lowest AIC\n",
    "model_comparison['best_fit'] = (\n",
    "    model_comparison['aic'] == model_comparison['aic_min']\n",
    ").astype(int)\n",
    "\n",
    "# Get best fitting models only\n",
    "best_fits = model_comparison[model_comparison['best_fit'] == 1]\n",
    "best_fits = best_fits.reset_index(drop=True) \n",
    "\n",
    "# Model is recovered if the best fit model matches the simulated model\n",
    "best_fits['recovered'] = (\n",
    "    (best_fits['model_label_sim'] == best_fits['model_label_fit']) &\n",
    "    (best_fits['best_fit'] == 1)\n",
    ").astype(int)\n",
    "\n",
    "best_fits"
   ]
  },
  {
   "cell_type": "markdown",
   "metadata": {},
   "source": [
    "## Plot model recovery rates"
   ]
  },
  {
   "cell_type": "code",
   "execution_count": 44,
   "metadata": {},
   "outputs": [
    {
     "data": {
      "image/png": "[encoded data removed]",
      "text/plain": [
       "<Figure size 216x216 with 1 Axes>"
      ]
     },
     "metadata": {
      "needs_background": "light"
     },
     "output_type": "display_data"
    }
   ],
   "source": [
    "fig, ax = plt.subplots(figsize=(3, 3))\n",
    "sns.barplot(\n",
    "    data = best_fits,\n",
    "    x = 'model_label_sim',\n",
    "    y = 'recovered',\n",
    "    order = MODELS,\n",
    "    ci = None,\n",
    "    palette = MODEL_COLORS,\n",
    "    edgecolor = 'black'\n",
    ")\n",
    "ax.axhline(1/len(MODELS), color='black', linestyle='--')\n",
    "ax.set_xlabel('Simulated Model')\n",
    "ax.set_ylabel('Recovery Rate')\n",
    "ax.set_xlim(-0.75, 2.75)\n",
    "ax.set_title('Model Recovery Rate', loc='left')\n",
    "set_axis_ratio(ax)"
   ]
  },
  {
   "cell_type": "markdown",
   "metadata": {},
   "source": [
    "## Fit rates for each model"
   ]
  },
  {
   "cell_type": "markdown",
   "metadata": {},
   "source": []
  },
  {
   "cell_type": "code",
   "execution_count": 45,
   "metadata": {},
   "outputs": [
    {
     "data": {
      "image/png": "[encoded data removed]",
      "text/plain": [
       "<Figure size 216x288 with 1 Axes>"
      ]
     },
     "metadata": {
      "needs_background": "light"
     },
     "output_type": "display_data"
    }
   ],
   "source": [
    "fig, ax = plt.subplots(figsize=(3, 4))\n",
    "sns.countplot(\n",
    "    data = best_fits,\n",
    "    x = 'model_label_sim',\n",
    "    order = MODELS,\n",
    "    hue = 'model_label_fit',\n",
    "    hue_order = MODELS,\n",
    "    palette = MODEL_COLORS,\n",
    "    edgecolor = 'black'\n",
    ")\n",
    "ax.axhline((len(best_fits)/3)/len(MODELS), color='black', linestyle='--')\n",
    "ax.legend(title='Fit Model', loc=(1.05, .45))\n",
    "ax.set_xlabel('Simulated Model')\n",
    "ax.set_ylabel('Fit Rate')\n",
    "ax.set_xlim(-0.75, 2.75)\n",
    "ax.set_title('Model Fit Rates', loc='left')\n",
    "set_axis_ratio(ax)"
   ]
  },
  {
   "cell_type": "markdown",
   "metadata": {},
   "source": [
    "## Fit rates for each model by aggregated AIC"
   ]
  },
  {
   "cell_type": "code",
   "execution_count": 46,
   "metadata": {},
   "outputs": [
    {
     "data": {
      "image/png": "[encoded data removed]",
      "text/plain": [
       "<Figure size 216x216 with 1 Axes>"
      ]
     },
     "metadata": {
      "needs_background": "light"
     },
     "output_type": "display_data"
    }
   ],
   "source": [
    "aic_comparison = model_comparison[['model_label_sim', 'model_label_fit', 'aic']]\n",
    "aic_comparison = aic_comparison.groupby(['model_label_sim', 'model_label_fit'])\n",
    "aic_comparison = aic_comparison.sum()\n",
    "aic_comparison = aic_comparison.reset_index()\n",
    "\n",
    "fig, ax = plt.subplots(figsize=(3, 3))\n",
    "sns.barplot(\n",
    "    data = aic_comparison,\n",
    "    x = 'model_label_sim',\n",
    "    y = 'aic',\n",
    "    order = MODELS,\n",
    "    hue = 'model_label_fit',\n",
    "    hue_order = MODELS,\n",
    "    palette = MODEL_COLORS,\n",
    "    edgecolor = 'black'\n",
    ")\n",
    "ax.legend(title='Fit Model', loc=(1.05, .45))\n",
    "ax.set_xlabel('Simulated Model')\n",
    "ax.set_ylabel('AIC')\n",
    "ax.set_xlim(-0.75, 2.75)\n",
    "ax.set_title('Group AICs', loc='left')\n",
    "set_axis_ratio(ax)"
   ]
  },
  {
   "cell_type": "markdown",
   "metadata": {},
   "source": [
    "# Parameter Recovery"
   ]
  },
  {
   "cell_type": "markdown",
   "metadata": {},
   "source": [
    "## Conjunctive Model"
   ]
  },
  {
   "cell_type": "markdown",
   "metadata": {},
   "source": [
    "### Learning Rate Recovery"
   ]
  },
  {
   "cell_type": "code",
   "execution_count": 108,
   "metadata": {},
   "outputs": [
    {
     "name": "stdout",
     "output_type": "stream",
     "text": [
      "\n",
      "    alpha_sim vs alpha_fit\n",
      "    Pearson's correlation: 0.74 (p <= 0.0001)\n",
      "    Spearman's correlation: 0.76 (p <= 0.0001)\n",
      "    \n",
      "\n",
      "    alpha_fit vs beta_trans_fit\n",
      "    Pearson's correlation: -0.38 (p <= 0.0002)\n",
      "    Spearman's correlation: -0.45 (p <= 0.0001)\n",
      "    \n"
     ]
    },
    {
     "data": {
      "image/png": "[encoded data removed]",
      "text/plain": [
       "<Figure size 216x216 with 3 Axes>"
      ]
     },
     "metadata": {
      "needs_background": "light"
     },
     "output_type": "display_data"
    },
    {
     "data": {
      "image/png": "[encoded data removed]",
      "text/plain": [
       "<Figure size 216x216 with 3 Axes>"
      ]
     },
     "metadata": {
      "needs_background": "light"
     },
     "output_type": "display_data"
    }
   ],
   "source": [
    "idx = (\n",
    "    (model_fits['model_label_sim'] == 'ss') &\n",
    "    (model_fits['model_label_fit'] == 'ss')\n",
    ")\n",
    "\n",
    "plot_parameter_relationship(\n",
    "    model_fits.loc[idx],\n",
    "    'alpha_sim',\n",
    "    'alpha_fit',\n",
    "    x_label = 'Simulated Alpha',\n",
    "    y_label = 'Fit Alpha',\n",
    "    color = MODEL_COLORS['ss']\n",
    ")\n",
    "\n",
    "plot_parameter_relationship(\n",
    "    model_fits.loc[idx],\n",
    "    'alpha_fit',\n",
    "    'beta_trans_fit',\n",
    "    x_label = 'Fit Alpha',\n",
    "    y_label = 'Fit Beta\\n(transformed)',\n",
    "    color = MODEL_COLORS['ss']\n",
    ")"
   ]
  },
  {
   "cell_type": "markdown",
   "metadata": {},
   "source": [
    "### Inverse Temperature Recovery"
   ]
  },
  {
   "cell_type": "code",
   "execution_count": 109,
   "metadata": {},
   "outputs": [
    {
     "name": "stdout",
     "output_type": "stream",
     "text": [
      "\n",
      "    beta_trans_sim vs beta_trans_fit\n",
      "    Pearson's correlation: 0.49 (p <= 0.0001)\n",
      "    Spearman's correlation: 0.58 (p <= 0.0001)\n",
      "    \n"
     ]
    },
    {
     "data": {
      "image/png": "[encoded data removed]",
      "text/plain": [
       "<Figure size 216x216 with 3 Axes>"
      ]
     },
     "metadata": {
      "needs_background": "light"
     },
     "output_type": "display_data"
    }
   ],
   "source": [
    "idx = (\n",
    "    (model_fits['model_label_sim'] == 'ss') &\n",
    "    (model_fits['model_label_fit'] == 'ss')\n",
    ")\n",
    "plot_parameter_relationship(\n",
    "    model_fits.loc[idx],\n",
    "    'beta_trans_sim',\n",
    "    'beta_trans_fit',\n",
    "    x_label = 'Simulated Beta\\n(transformed)',\n",
    "    y_label = 'Fit Beta\\n(transformed)',\n",
    "    color = MODEL_COLORS['ss']\n",
    ")"
   ]
  },
  {
   "cell_type": "markdown",
   "metadata": {},
   "source": [
    "## Conjunctive Sampler Model"
   ]
  },
  {
   "cell_type": "markdown",
   "metadata": {},
   "source": [
    "### Learning Rate Recovery"
   ]
  },
  {
   "cell_type": "code",
   "execution_count": 110,
   "metadata": {},
   "outputs": [
    {
     "name": "stdout",
     "output_type": "stream",
     "text": [
      "\n",
      "    alpha_sim vs alpha_fit\n",
      "    Pearson's correlation: 0.49 (p <= 0.0001)\n",
      "    Spearman's correlation: 0.51 (p <= 0.0001)\n",
      "    \n",
      "\n",
      "    alpha_fit vs beta_trans_fit\n",
      "    Pearson's correlation: -0.57 (p <= 0.0001)\n",
      "    Spearman's correlation: -0.66 (p <= 0.0001)\n",
      "    \n",
      "\n",
      "    alpha_fit vs sampler_feature_weight_fit\n",
      "    Pearson's correlation: -0.09 (p <= 0.3951)\n",
      "    Spearman's correlation: -0.07 (p <= 0.4901)\n",
      "    \n",
      "\n",
      "    alpha_fit vs sampler_specificity_trans_fit\n",
      "    Pearson's correlation: -0.18 (p <= 0.0731)\n",
      "    Spearman's correlation: -0.25 (p <= 0.0109)\n",
      "    \n"
     ]
    },
    {
     "data": {
      "image/png": "[encoded data removed]",
      "text/plain": [
       "<Figure size 216x216 with 3 Axes>"
      ]
     },
     "metadata": {
      "needs_background": "light"
     },
     "output_type": "display_data"
    },
    {
     "data": {
      "image/png": "[encoded data removed]",
      "text/plain": [
       "<Figure size 216x216 with 3 Axes>"
      ]
     },
     "metadata": {
      "needs_background": "light"
     },
     "output_type": "display_data"
    },
    {
     "data": {
      "image/png": "[encoded data removed]",
      "text/plain": [
       "<Figure size 216x216 with 3 Axes>"
      ]
     },
     "metadata": {
      "needs_background": "light"
     },
     "output_type": "display_data"
    },
    {
     "data": {
      "image/png": "[encoded data removed]",
      "text/plain": [
       "<Figure size 216x216 with 3 Axes>"
      ]
     },
     "metadata": {
      "needs_background": "light"
     },
     "output_type": "display_data"
    }
   ],
   "source": [
    "idx = (\n",
    "    (model_fits['model_label_sim'] == 'ss-sampler') &\n",
    "    (model_fits['model_label_fit'] == 'ss-sampler')\n",
    ")\n",
    "\n",
    "plot_parameter_relationship(\n",
    "    model_fits.loc[idx],\n",
    "    'alpha_sim',\n",
    "    'alpha_fit',\n",
    "    x_label = 'Simulated Alpha',\n",
    "    y_label = 'Fit Alpha',\n",
    "    color = MODEL_COLORS['ss-sampler']\n",
    ")\n",
    "\n",
    "plot_parameter_relationship(\n",
    "    model_fits.loc[idx],\n",
    "    'alpha_fit',\n",
    "    'beta_trans_fit',\n",
    "    x_label = 'Fit Alpha',\n",
    "    y_label = 'Fit Beta\\n(transformed)',\n",
    "    color = MODEL_COLORS['ss-sampler']\n",
    ")\n",
    "\n",
    "plot_parameter_relationship(\n",
    "    model_fits.loc[idx],\n",
    "    'alpha_fit',\n",
    "    'sampler_feature_weight_fit',\n",
    "    x_label = 'Fit Alpha',\n",
    "    y_label = 'Fit Sampler Feature Weight',\n",
    "    color = MODEL_COLORS['ss-sampler']\n",
    ")\n",
    "\n",
    "plot_parameter_relationship(\n",
    "    model_fits.loc[idx],\n",
    "    'alpha_fit',\n",
    "    'sampler_specificity_trans_fit',\n",
    "    x_label = 'Fit Alpha',\n",
    "    y_label = 'Fit Sampler Specificity\\n(transformed)',\n",
    "    color = MODEL_COLORS['ss-sampler']\n",
    ")"
   ]
  },
  {
   "cell_type": "markdown",
   "metadata": {},
   "source": [
    "### Inverse Temperature Recovery"
   ]
  },
  {
   "cell_type": "code",
   "execution_count": 111,
   "metadata": {},
   "outputs": [
    {
     "name": "stdout",
     "output_type": "stream",
     "text": [
      "\n",
      "    beta_trans_sim vs beta_trans_fit\n",
      "    Pearson's correlation: 0.35 (p <= 0.0005)\n",
      "    Spearman's correlation: 0.36 (p <= 0.0003)\n",
      "    \n",
      "\n",
      "    beta_trans_fit vs sampler_feature_weight_fit\n",
      "    Pearson's correlation: -0.0 (p <= 0.9631)\n",
      "    Spearman's correlation: -0.01 (p <= 0.9516)\n",
      "    \n",
      "\n",
      "    beta_trans_fit vs sampler_specificity_trans_fit\n",
      "    Pearson's correlation: 0.13 (p <= 0.186)\n",
      "    Spearman's correlation: 0.21 (p <= 0.0326)\n",
      "    \n"
     ]
    },
    {
     "data": {
      "image/png": "[encoded data removed]",
      "text/plain": [
       "<Figure size 216x216 with 3 Axes>"
      ]
     },
     "metadata": {
      "needs_background": "light"
     },
     "output_type": "display_data"
    },
    {
     "data": {
      "image/png": "[encoded data removed]",
      "text/plain": [
       "<Figure size 216x216 with 3 Axes>"
      ]
     },
     "metadata": {
      "needs_background": "light"
     },
     "output_type": "display_data"
    },
    {
     "data": {
      "image/png": "[encoded data removed]",
      "text/plain": [
       "<Figure size 216x216 with 3 Axes>"
      ]
     },
     "metadata": {
      "needs_background": "light"
     },
     "output_type": "display_data"
    }
   ],
   "source": [
    "idx = (\n",
    "    (model_fits['model_label_sim'] == 'ss-sampler') &\n",
    "    (model_fits['model_label_fit'] == 'ss-sampler')\n",
    ")\n",
    "\n",
    "plot_parameter_relationship(\n",
    "    model_fits.loc[idx],\n",
    "    'beta_trans_sim',\n",
    "    'beta_trans_fit',\n",
    "    x_label = 'Simulated Beta\\n(transformed)',\n",
    "    y_label = 'Fit Beta\\n(transformed)',\n",
    "    color = MODEL_COLORS['ss-sampler']\n",
    ")\n",
    "\n",
    "plot_parameter_relationship(\n",
    "    model_fits.loc[idx],\n",
    "    'beta_trans_fit',\n",
    "    'sampler_feature_weight_fit',\n",
    "    x_label = 'Fit Beta\\n(transformed)',\n",
    "    y_label = 'Fit Sampler Feature Weight',\n",
    "    color = MODEL_COLORS['ss-sampler']\n",
    ")\n",
    "\n",
    "plot_parameter_relationship(\n",
    "    model_fits.loc[idx],\n",
    "    'beta_trans_fit',\n",
    "    'sampler_specificity_trans_fit',\n",
    "    x_label = 'Fit Beta\\n(transformed)',\n",
    "    y_label = 'Fit Sampler Specificity\\n(transformed)',\n",
    "    color = MODEL_COLORS['ss-sampler']\n",
    ")"
   ]
  },
  {
   "cell_type": "markdown",
   "metadata": {},
   "source": [
    "### Sampler Feature Weight"
   ]
  },
  {
   "cell_type": "code",
   "execution_count": 112,
   "metadata": {},
   "outputs": [
    {
     "name": "stdout",
     "output_type": "stream",
     "text": [
      "\n",
      "    sampler_feature_weight_sim vs sampler_feature_weight_fit\n",
      "    Pearson's correlation: 0.89 (p <= 0.0001)\n",
      "    Spearman's correlation: 0.89 (p <= 0.0001)\n",
      "    \n",
      "\n",
      "    sampler_feature_weight_fit vs sampler_specificity_trans_fit\n",
      "    Pearson's correlation: -0.04 (p <= 0.7239)\n",
      "    Spearman's correlation: 0.05 (p <= 0.5952)\n",
      "    \n"
     ]
    },
    {
     "data": {
      "image/png": "[encoded data removed]",
      "text/plain": [
       "<Figure size 216x216 with 3 Axes>"
      ]
     },
     "metadata": {
      "needs_background": "light"
     },
     "output_type": "display_data"
    },
    {
     "data": {
      "image/png": "[encoded data removed]",
      "text/plain": [
       "<Figure size 216x216 with 3 Axes>"
      ]
     },
     "metadata": {
      "needs_background": "light"
     },
     "output_type": "display_data"
    }
   ],
   "source": [
    "idx = (\n",
    "    (model_fits['model_label_sim'] == 'ss-sampler') &\n",
    "    (model_fits['model_label_fit'] == 'ss-sampler')\n",
    ")\n",
    "\n",
    "plot_parameter_relationship(\n",
    "    model_fits.loc[idx],\n",
    "    'sampler_feature_weight_sim',\n",
    "    'sampler_feature_weight_fit',\n",
    "    x_label = 'Simulated Sampler Feature Weight',\n",
    "    y_label = 'Fit Sampler Feature Weight',\n",
    "    color = MODEL_COLORS['ss-sampler']\n",
    ")\n",
    "\n",
    "plot_parameter_relationship(\n",
    "    model_fits.loc[idx],\n",
    "    'sampler_feature_weight_fit',\n",
    "    'sampler_specificity_trans_fit',\n",
    "    x_label = 'Fit Sampler Feature Weight',\n",
    "    y_label = 'Fit Sampler Specificity\\n(transformed)',\n",
    "    color = MODEL_COLORS['ss-sampler']\n",
    ")"
   ]
  },
  {
   "cell_type": "markdown",
   "metadata": {},
   "source": [
    "### Sampler Specificity"
   ]
  },
  {
   "cell_type": "code",
   "execution_count": 113,
   "metadata": {},
   "outputs": [
    {
     "name": "stdout",
     "output_type": "stream",
     "text": [
      "\n",
      "    sampler_specificity_trans_sim vs sampler_specificity_trans_fit\n",
      "    Pearson's correlation: 0.66 (p <= 0.0001)\n",
      "    Spearman's correlation: 0.76 (p <= 0.0001)\n",
      "    \n"
     ]
    },
    {
     "data": {
      "image/png": "[encoded data removed]",
      "text/plain": [
       "<Figure size 216x216 with 3 Axes>"
      ]
     },
     "metadata": {
      "needs_background": "light"
     },
     "output_type": "display_data"
    }
   ],
   "source": [
    "idx = (\n",
    "    (model_fits['model_label_sim'] == 'ss-sampler') &\n",
    "    (model_fits['model_label_fit'] == 'ss-sampler')\n",
    ")\n",
    "\n",
    "plot_parameter_relationship(\n",
    "    model_fits.loc[idx],\n",
    "    'sampler_specificity_trans_sim',\n",
    "    'sampler_specificity_trans_fit',\n",
    "    x_label = 'Simulated Sampler Specificity\\n(transformed)',\n",
    "    y_label = 'Fit Sampler Specificity\\n(transformed)',\n",
    "    color = MODEL_COLORS['ss-sampler']\n",
    ")"
   ]
  },
  {
   "cell_type": "markdown",
   "metadata": {},
   "source": [
    "## Feature-Based Model"
   ]
  },
  {
   "cell_type": "markdown",
   "metadata": {},
   "source": [
    "### Learning Rate Recovery"
   ]
  },
  {
   "cell_type": "code",
   "execution_count": 114,
   "metadata": {},
   "outputs": [
    {
     "name": "stdout",
     "output_type": "stream",
     "text": [
      "\n",
      "    alpha_sim vs alpha_fit\n",
      "    Pearson's correlation: 0.48 (p <= 0.0001)\n",
      "    Spearman's correlation: 0.5 (p <= 0.0001)\n",
      "    \n",
      "\n",
      "    alpha_fit vs beta_trans_fit\n",
      "    Pearson's correlation: -0.52 (p <= 0.0001)\n",
      "    Spearman's correlation: -0.58 (p <= 0.0001)\n",
      "    \n",
      "\n",
      "    alpha_fit vs segmentation_fit\n",
      "    Pearson's correlation: 0.06 (p <= 0.5524)\n",
      "    Spearman's correlation: 0.03 (p <= 0.736)\n",
      "    \n"
     ]
    },
    {
     "data": {
      "image/png": "[encoded data removed]",
      "text/plain": [
       "<Figure size 216x216 with 3 Axes>"
      ]
     },
     "metadata": {
      "needs_background": "light"
     },
     "output_type": "display_data"
    },
    {
     "data": {
      "image/png": "[encoded data removed]",
      "text/plain": [
       "<Figure size 216x216 with 3 Axes>"
      ]
     },
     "metadata": {
      "needs_background": "light"
     },
     "output_type": "display_data"
    },
    {
     "data": {
      "image/png": "[encoded data removed]",
      "text/plain": [
       "<Figure size 216x216 with 3 Axes>"
      ]
     },
     "metadata": {
      "needs_background": "light"
     },
     "output_type": "display_data"
    }
   ],
   "source": [
    "idx = (\n",
    "    (model_fits['model_label_sim'] == 'ff') &\n",
    "    (model_fits['model_label_fit'] == 'ff')\n",
    ")\n",
    "\n",
    "plot_parameter_relationship(\n",
    "    model_fits.loc[idx],\n",
    "    'alpha_sim',\n",
    "    'alpha_fit',\n",
    "    x_label = 'Simulated Alpha',\n",
    "    y_label = 'Fit Alpha',\n",
    "    color = MODEL_COLORS['ff']\n",
    ")\n",
    "\n",
    "plot_parameter_relationship(\n",
    "    model_fits.loc[idx],\n",
    "    'alpha_fit',\n",
    "    'beta_trans_fit',\n",
    "    x_label = 'Fit Alpha',\n",
    "    y_label = 'Fit Beta\\n(transformed)',\n",
    "    color = MODEL_COLORS['ff']\n",
    ")\n",
    "\n",
    "plot_parameter_relationship(\n",
    "    model_fits.loc[idx],\n",
    "    'alpha_fit',\n",
    "    'segmentation_fit',\n",
    "    x_label = 'Fit Alpha',\n",
    "    y_label = 'Fit Segmentation',\n",
    "    color = MODEL_COLORS['ff']\n",
    ")\n"
   ]
  },
  {
   "cell_type": "markdown",
   "metadata": {},
   "source": [
    "### Inverse Temperature Recovery"
   ]
  },
  {
   "cell_type": "code",
   "execution_count": 115,
   "metadata": {},
   "outputs": [
    {
     "name": "stdout",
     "output_type": "stream",
     "text": [
      "\n",
      "    beta_trans_sim vs beta_trans_fit\n",
      "    Pearson's correlation: 0.4 (p <= 0.0001)\n",
      "    Spearman's correlation: 0.42 (p <= 0.0001)\n",
      "    \n",
      "\n",
      "    beta_trans_fit vs segmentation_fit\n",
      "    Pearson's correlation: -0.15 (p <= 0.1325)\n",
      "    Spearman's correlation: -0.07 (p <= 0.492)\n",
      "    \n"
     ]
    },
    {
     "data": {
      "image/png": "[encoded data removed]",
      "text/plain": [
       "<Figure size 216x216 with 3 Axes>"
      ]
     },
     "metadata": {
      "needs_background": "light"
     },
     "output_type": "display_data"
    },
    {
     "data": {
      "image/png": "[encoded data removed]",
      "text/plain": [
       "<Figure size 216x216 with 3 Axes>"
      ]
     },
     "metadata": {
      "needs_background": "light"
     },
     "output_type": "display_data"
    }
   ],
   "source": [
    "idx = (\n",
    "    (model_fits['model_label_sim'] == 'ff') &\n",
    "    (model_fits['model_label_fit'] == 'ff')\n",
    ")\n",
    "\n",
    "plot_parameter_relationship(\n",
    "    model_fits.loc[idx],\n",
    "    'beta_trans_sim',\n",
    "    'beta_trans_fit',\n",
    "    x_label = 'Simulated Beta\\n(transformed)',\n",
    "    y_label = 'Fit Beta\\n(transformed)',\n",
    "    color = MODEL_COLORS['ff']\n",
    ")\n",
    "\n",
    "plot_parameter_relationship(\n",
    "    model_fits.loc[idx],\n",
    "    'beta_trans_fit',\n",
    "    'segmentation_fit',\n",
    "    x_label = 'Fit Beta\\n(transformed)',\n",
    "    y_label = 'Fit Segmentation',\n",
    "    color = MODEL_COLORS['ff']\n",
    ")"
   ]
  },
  {
   "cell_type": "markdown",
   "metadata": {},
   "source": [
    "### Segmentation Recovery"
   ]
  },
  {
   "cell_type": "code",
   "execution_count": 116,
   "metadata": {},
   "outputs": [
    {
     "name": "stdout",
     "output_type": "stream",
     "text": [
      "\n",
      "    segmentation_sim vs segmentation_fit\n",
      "    Pearson's correlation: 0.78 (p <= 0.0001)\n",
      "    Spearman's correlation: 0.77 (p <= 0.0001)\n",
      "    \n"
     ]
    },
    {
     "data": {
      "image/png": "[encoded data removed]",
      "text/plain": [
       "<Figure size 216x216 with 3 Axes>"
      ]
     },
     "metadata": {
      "needs_background": "light"
     },
     "output_type": "display_data"
    }
   ],
   "source": [
    "idx = (\n",
    "    (model_fits['model_label_sim'] == 'ff') &\n",
    "    (model_fits['model_label_fit'] == 'ff')\n",
    ")\n",
    "\n",
    "plot_parameter_relationship(\n",
    "    model_fits.loc[idx],\n",
    "    'segmentation_sim',\n",
    "    'segmentation_fit',\n",
    "    x_label = 'Simulated Segmentation',\n",
    "    y_label = 'Fit Segmentation',\n",
    "    color = MODEL_COLORS['ff']\n",
    ")"
   ]
  }
 ],
 "metadata": {
  "kernelspec": {
   "display_name": "stats",
   "language": "python",
   "name": "python3"
  },
  "language_info": {
   "codemirror_mode": {
    "name": "ipython",
    "version": 3
   },
   "file_extension": ".py",
   "mimetype": "text/x-python",
   "name": "python",
   "nbconvert_exporter": "python",
   "pygments_lexer": "ipython3",
   "version": "3.10.4"
  }
 },
 "nbformat": 4,
 "nbformat_minor": 2
}
